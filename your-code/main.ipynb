{
 "cells": [
  {
   "cell_type": "markdown",
   "metadata": {},
   "source": [
    "# Before your start:\n",
    "- Read the README.md file\n",
    "- Comment as much as you can and use the resources (README.md file)\n",
    "- Happy learning!"
   ]
  },
  {
   "cell_type": "code",
   "execution_count": 37,
   "metadata": {},
   "outputs": [],
   "source": [
    "import numpy as np\n",
    "import pandas as pd"
   ]
  },
  {
   "cell_type": "markdown",
   "metadata": {},
   "source": [
    "# Challenge 1 - Exploring the Data\n",
    "\n",
    "In this challenge, we will examine all salaries of employees of the City of Chicago. We will start by loading the dataset and examining its contents"
   ]
  },
  {
   "cell_type": "code",
   "execution_count": 38,
   "metadata": {},
   "outputs": [],
   "source": [
    "salaries = pd.read_csv('../Current_Employee_Names__Salaries__and_Position_Titles.csv')"
   ]
  },
  {
   "cell_type": "markdown",
   "metadata": {},
   "source": [
    "Examine the `salaries` dataset using the `head` function below."
   ]
  },
  {
   "cell_type": "code",
   "execution_count": 39,
   "metadata": {},
   "outputs": [
    {
     "data": {
      "text/html": [
       "<div>\n",
       "<style scoped>\n",
       "    .dataframe tbody tr th:only-of-type {\n",
       "        vertical-align: middle;\n",
       "    }\n",
       "\n",
       "    .dataframe tbody tr th {\n",
       "        vertical-align: top;\n",
       "    }\n",
       "\n",
       "    .dataframe thead th {\n",
       "        text-align: right;\n",
       "    }\n",
       "</style>\n",
       "<table border=\"1\" class=\"dataframe\">\n",
       "  <thead>\n",
       "    <tr style=\"text-align: right;\">\n",
       "      <th></th>\n",
       "      <th>Name</th>\n",
       "      <th>Job Titles</th>\n",
       "      <th>Department</th>\n",
       "      <th>Full or Part-Time</th>\n",
       "      <th>Salary or Hourly</th>\n",
       "      <th>Typical Hours</th>\n",
       "      <th>Annual Salary</th>\n",
       "      <th>Hourly Rate</th>\n",
       "    </tr>\n",
       "  </thead>\n",
       "  <tbody>\n",
       "    <tr>\n",
       "      <th>7150</th>\n",
       "      <td>DIAZ,  JACQUELINE</td>\n",
       "      <td>HEAD LIBRARY CLERK</td>\n",
       "      <td>PUBLIC LIBRARY</td>\n",
       "      <td>F</td>\n",
       "      <td>Salary</td>\n",
       "      <td>NaN</td>\n",
       "      <td>60972.0</td>\n",
       "      <td>NaN</td>\n",
       "    </tr>\n",
       "    <tr>\n",
       "      <th>22811</th>\n",
       "      <td>PENNICK II,  MICKEY D</td>\n",
       "      <td>OPERATING ENGINEER-GROUP A</td>\n",
       "      <td>WATER MGMNT</td>\n",
       "      <td>F</td>\n",
       "      <td>Hourly</td>\n",
       "      <td>40.0</td>\n",
       "      <td>NaN</td>\n",
       "      <td>47.44</td>\n",
       "    </tr>\n",
       "    <tr>\n",
       "      <th>9293</th>\n",
       "      <td>FOULKS,  JENNIFER A</td>\n",
       "      <td>POLICE OFFICER</td>\n",
       "      <td>POLICE</td>\n",
       "      <td>F</td>\n",
       "      <td>Salary</td>\n",
       "      <td>NaN</td>\n",
       "      <td>93354.0</td>\n",
       "      <td>NaN</td>\n",
       "    </tr>\n",
       "    <tr>\n",
       "      <th>22066</th>\n",
       "      <td>ORTIZ,  PEDRO</td>\n",
       "      <td>POLICE OFFICER</td>\n",
       "      <td>POLICE</td>\n",
       "      <td>F</td>\n",
       "      <td>Salary</td>\n",
       "      <td>NaN</td>\n",
       "      <td>87006.0</td>\n",
       "      <td>NaN</td>\n",
       "    </tr>\n",
       "    <tr>\n",
       "      <th>14879</th>\n",
       "      <td>KANE,  PAUL A</td>\n",
       "      <td>CAPTAIN</td>\n",
       "      <td>POLICE</td>\n",
       "      <td>F</td>\n",
       "      <td>Salary</td>\n",
       "      <td>NaN</td>\n",
       "      <td>136170.0</td>\n",
       "      <td>NaN</td>\n",
       "    </tr>\n",
       "    <tr>\n",
       "      <th>29562</th>\n",
       "      <td>THURMOND,  HUGO E</td>\n",
       "      <td>POLICE OFFICER</td>\n",
       "      <td>POLICE</td>\n",
       "      <td>F</td>\n",
       "      <td>Salary</td>\n",
       "      <td>NaN</td>\n",
       "      <td>90024.0</td>\n",
       "      <td>NaN</td>\n",
       "    </tr>\n",
       "    <tr>\n",
       "      <th>31067</th>\n",
       "      <td>WALKER,  STACEY D</td>\n",
       "      <td>POLICE OFFICER</td>\n",
       "      <td>POLICE</td>\n",
       "      <td>F</td>\n",
       "      <td>Salary</td>\n",
       "      <td>NaN</td>\n",
       "      <td>96060.0</td>\n",
       "      <td>NaN</td>\n",
       "    </tr>\n",
       "    <tr>\n",
       "      <th>7943</th>\n",
       "      <td>DYSON,  DAPHNE M</td>\n",
       "      <td>POOL MOTOR TRUCK DRIVER</td>\n",
       "      <td>STREETS &amp; SAN</td>\n",
       "      <td>F</td>\n",
       "      <td>Hourly</td>\n",
       "      <td>40.0</td>\n",
       "      <td>NaN</td>\n",
       "      <td>35.60</td>\n",
       "    </tr>\n",
       "    <tr>\n",
       "      <th>23449</th>\n",
       "      <td>POLLARD,  SHIRLEY</td>\n",
       "      <td>TITLE V PROGRAM TRAINEE I</td>\n",
       "      <td>FAMILY &amp; SUPPORT</td>\n",
       "      <td>P</td>\n",
       "      <td>Hourly</td>\n",
       "      <td>20.0</td>\n",
       "      <td>NaN</td>\n",
       "      <td>8.25</td>\n",
       "    </tr>\n",
       "    <tr>\n",
       "      <th>16875</th>\n",
       "      <td>LINDAHL,  CHRISTOPHER A</td>\n",
       "      <td>POLICE OFFICER</td>\n",
       "      <td>POLICE</td>\n",
       "      <td>F</td>\n",
       "      <td>Salary</td>\n",
       "      <td>NaN</td>\n",
       "      <td>90024.0</td>\n",
       "      <td>NaN</td>\n",
       "    </tr>\n",
       "  </tbody>\n",
       "</table>\n",
       "</div>"
      ],
      "text/plain": [
       "                          Name                  Job Titles        Department  \\\n",
       "7150        DIAZ,  JACQUELINE           HEAD LIBRARY CLERK    PUBLIC LIBRARY   \n",
       "22811    PENNICK II,  MICKEY D  OPERATING ENGINEER-GROUP A       WATER MGMNT   \n",
       "9293       FOULKS,  JENNIFER A              POLICE OFFICER            POLICE   \n",
       "22066           ORTIZ,  PEDRO               POLICE OFFICER            POLICE   \n",
       "14879            KANE,  PAUL A                     CAPTAIN            POLICE   \n",
       "29562        THURMOND,  HUGO E              POLICE OFFICER            POLICE   \n",
       "31067        WALKER,  STACEY D              POLICE OFFICER            POLICE   \n",
       "7943          DYSON,  DAPHNE M     POOL MOTOR TRUCK DRIVER     STREETS & SAN   \n",
       "23449       POLLARD,  SHIRLEY    TITLE V PROGRAM TRAINEE I  FAMILY & SUPPORT   \n",
       "16875  LINDAHL,  CHRISTOPHER A              POLICE OFFICER            POLICE   \n",
       "\n",
       "      Full or Part-Time Salary or Hourly  Typical Hours  Annual Salary  \\\n",
       "7150                  F           Salary            NaN        60972.0   \n",
       "22811                 F           Hourly           40.0            NaN   \n",
       "9293                  F           Salary            NaN        93354.0   \n",
       "22066                 F           Salary            NaN        87006.0   \n",
       "14879                 F           Salary            NaN       136170.0   \n",
       "29562                 F           Salary            NaN        90024.0   \n",
       "31067                 F           Salary            NaN        96060.0   \n",
       "7943                  F           Hourly           40.0            NaN   \n",
       "23449                 P           Hourly           20.0            NaN   \n",
       "16875                 F           Salary            NaN        90024.0   \n",
       "\n",
       "       Hourly Rate  \n",
       "7150           NaN  \n",
       "22811        47.44  \n",
       "9293           NaN  \n",
       "22066          NaN  \n",
       "14879          NaN  \n",
       "29562          NaN  \n",
       "31067          NaN  \n",
       "7943         35.60  \n",
       "23449         8.25  \n",
       "16875          NaN  "
      ]
     },
     "execution_count": 39,
     "metadata": {},
     "output_type": "execute_result"
    }
   ],
   "source": [
    "salaries.sample(10)"
   ]
  },
  {
   "cell_type": "markdown",
   "metadata": {},
   "source": [
    "We see from looking at the `head` function that there is quite a bit of missing data. Let's examine how much missing data is in each column. Produce this output in the cell below"
   ]
  },
  {
   "cell_type": "code",
   "execution_count": 40,
   "metadata": {},
   "outputs": [
    {
     "data": {
      "text/plain": [
       "Name                     0\n",
       "Job Titles               0\n",
       "Department               0\n",
       "Full or Part-Time        0\n",
       "Salary or Hourly         0\n",
       "Typical Hours        25161\n",
       "Annual Salary         8022\n",
       "Hourly Rate          25161\n",
       "dtype: int64"
      ]
     },
     "execution_count": 40,
     "metadata": {},
     "output_type": "execute_result"
    }
   ],
   "source": [
    "# Your code here:\n",
    "na_in_each_column = salaries.isna().sum()\n",
    "na_in_each_column\n"
   ]
  },
  {
   "cell_type": "code",
   "execution_count": 41,
   "metadata": {},
   "outputs": [
    {
     "data": {
      "text/plain": [
       "58344"
      ]
     },
     "execution_count": 41,
     "metadata": {},
     "output_type": "execute_result"
    }
   ],
   "source": [
    "total_na = salaries.isna().sum().sum()\n",
    "total_na"
   ]
  },
  {
   "cell_type": "markdown",
   "metadata": {},
   "source": [
    "Let's also look at the count of hourly vs. salaried employees. Write the code in the cell below"
   ]
  },
  {
   "cell_type": "code",
   "execution_count": 42,
   "metadata": {},
   "outputs": [
    {
     "data": {
      "text/plain": [
       "Salary or Hourly\n",
       "Hourly     8022\n",
       "Salary    25161\n",
       "Name: Salary or Hourly, dtype: int64"
      ]
     },
     "execution_count": 42,
     "metadata": {},
     "output_type": "execute_result"
    }
   ],
   "source": [
    "hvss_count = salaries.groupby(\"Salary or Hourly\")[\"Salary or Hourly\"].count()\n",
    "hvss_count\n"
   ]
  },
  {
   "cell_type": "markdown",
   "metadata": {},
   "source": [
    "What this information indicates is that the table contains information about two types of employees - salaried and hourly. Some columns apply only to one type of employee while other columns only apply to another kind. This is why there are so many missing values. Therefore, we will not do anything to handle the missing values."
   ]
  },
  {
   "cell_type": "markdown",
   "metadata": {},
   "source": [
    "There are different departments in the city. List all departments and the count of employees in each department."
   ]
  },
  {
   "cell_type": "code",
   "execution_count": 43,
   "metadata": {},
   "outputs": [
    {
     "data": {
      "text/plain": [
       "Department\n",
       "ADMIN HEARNG                39\n",
       "ANIMAL CONTRL               81\n",
       "AVIATION                  1629\n",
       "BOARD OF ELECTION          107\n",
       "BOARD OF ETHICS              8\n",
       "BUDGET & MGMT               46\n",
       "BUILDINGS                  269\n",
       "BUSINESS AFFAIRS           171\n",
       "CITY CLERK                  84\n",
       "CITY COUNCIL               411\n",
       "COMMUNITY DEVELOPMENT      207\n",
       "COPA                       116\n",
       "CULTURAL AFFAIRS            65\n",
       "DISABILITIES                28\n",
       "DoIT                        99\n",
       "FAMILY & SUPPORT           615\n",
       "FINANCE                    560\n",
       "FIRE                      4641\n",
       "GENERAL SERVICES           980\n",
       "HEALTH                     488\n",
       "HUMAN RELATIONS             16\n",
       "HUMAN RESOURCES             79\n",
       "INSPECTOR GEN               87\n",
       "LAW                        407\n",
       "LICENSE APPL COMM            1\n",
       "MAYOR'S OFFICE              85\n",
       "OEMC                      2102\n",
       "POLICE                   13414\n",
       "POLICE BOARD                 2\n",
       "PROCUREMENT                 92\n",
       "PUBLIC LIBRARY            1015\n",
       "STREETS & SAN             2198\n",
       "TRANSPORTN                1140\n",
       "TREASURER                   22\n",
       "WATER MGMNT               1879\n",
       "Name: Department, dtype: int64"
      ]
     },
     "execution_count": 43,
     "metadata": {},
     "output_type": "execute_result"
    }
   ],
   "source": [
    "departments_count = salaries.groupby(\"Department\")[\"Department\"].count()\n",
    "departments_count"
   ]
  },
  {
   "cell_type": "markdown",
   "metadata": {},
   "source": [
    "# Challenge 2 - Hypothesis Tests\n",
    "\n",
    "In this section of the lab, we will test whether the hourly wage of all hourly workers is significantly different from $30/hr. Import the correct one sample test function from scipy and perform the hypothesis test for a 95% two sided confidence interval."
   ]
  },
  {
   "cell_type": "code",
   "execution_count": 44,
   "metadata": {},
   "outputs": [],
   "source": [
    "import numpy as np\n",
    "from scipy.stats import ttest_1samp\n",
    "from statsmodels.stats.weightstats import ttest_ind"
   ]
  },
  {
   "cell_type": "code",
   "execution_count": 45,
   "metadata": {},
   "outputs": [
    {
     "data": {
      "text/html": [
       "<div>\n",
       "<style scoped>\n",
       "    .dataframe tbody tr th:only-of-type {\n",
       "        vertical-align: middle;\n",
       "    }\n",
       "\n",
       "    .dataframe tbody tr th {\n",
       "        vertical-align: top;\n",
       "    }\n",
       "\n",
       "    .dataframe thead th {\n",
       "        text-align: right;\n",
       "    }\n",
       "</style>\n",
       "<table border=\"1\" class=\"dataframe\">\n",
       "  <thead>\n",
       "    <tr style=\"text-align: right;\">\n",
       "      <th></th>\n",
       "      <th>Hourly Rate</th>\n",
       "    </tr>\n",
       "  </thead>\n",
       "  <tbody>\n",
       "    <tr>\n",
       "      <th>4</th>\n",
       "      <td>19.86</td>\n",
       "    </tr>\n",
       "    <tr>\n",
       "      <th>6</th>\n",
       "      <td>46.10</td>\n",
       "    </tr>\n",
       "    <tr>\n",
       "      <th>7</th>\n",
       "      <td>35.60</td>\n",
       "    </tr>\n",
       "    <tr>\n",
       "      <th>10</th>\n",
       "      <td>2.65</td>\n",
       "    </tr>\n",
       "    <tr>\n",
       "      <th>18</th>\n",
       "      <td>17.68</td>\n",
       "    </tr>\n",
       "    <tr>\n",
       "      <th>...</th>\n",
       "      <td>...</td>\n",
       "    </tr>\n",
       "    <tr>\n",
       "      <th>33164</th>\n",
       "      <td>46.10</td>\n",
       "    </tr>\n",
       "    <tr>\n",
       "      <th>33168</th>\n",
       "      <td>17.68</td>\n",
       "    </tr>\n",
       "    <tr>\n",
       "      <th>33169</th>\n",
       "      <td>35.60</td>\n",
       "    </tr>\n",
       "    <tr>\n",
       "      <th>33174</th>\n",
       "      <td>46.35</td>\n",
       "    </tr>\n",
       "    <tr>\n",
       "      <th>33175</th>\n",
       "      <td>48.85</td>\n",
       "    </tr>\n",
       "  </tbody>\n",
       "</table>\n",
       "<p>8022 rows × 1 columns</p>\n",
       "</div>"
      ],
      "text/plain": [
       "       Hourly Rate\n",
       "4            19.86\n",
       "6            46.10\n",
       "7            35.60\n",
       "10            2.65\n",
       "18           17.68\n",
       "...            ...\n",
       "33164        46.10\n",
       "33168        17.68\n",
       "33169        35.60\n",
       "33174        46.35\n",
       "33175        48.85\n",
       "\n",
       "[8022 rows x 1 columns]"
      ]
     },
     "execution_count": 45,
     "metadata": {},
     "output_type": "execute_result"
    }
   ],
   "source": [
    "#subdataset for hourly employees\n",
    "hourly_employees = salaries[salaries[\"Salary or Hourly\"] == \"Hourly\"]\n",
    "hourly_employees1 = hourly_employees[[\"Hourly Rate\"]]\n",
    "hourly_employees1"
   ]
  },
  {
   "cell_type": "code",
   "execution_count": 46,
   "metadata": {},
   "outputs": [
    {
     "name": "stdout",
     "output_type": "stream",
     "text": [
      "[1.]\n",
      "Accept Null Hypothesis: Hourly workers is different from 30€/hr\n"
     ]
    }
   ],
   "source": [
    "hourly_mean = hourly_employees1.mean()\n",
    "\n",
    "t_statistic, p_value = ttest_1samp(hourly_employees1, hourly_mean)\n",
    "print(p_value)\n",
    "\n",
    "if p_value < 0.05:\n",
    "   print('Reject Null Hypothesis: Hourly workers is 30€/hr')\n",
    "else:\n",
    "   print('Accept Null Hypothesis: Hourly workers is different from 30€/hr')"
   ]
  },
  {
   "cell_type": "markdown",
   "metadata": {},
   "source": [
    "We are also curious about salaries in the police force. The chief of police in Chicago claimed in a press briefing that salaries this year are higher than last year's mean of $86000/year a year for all salaried employees. Test this one sided hypothesis using a 95% confidence interval.\n",
    "\n",
    "Hint: A one tailed test has a p-value that is half of the two tailed p-value. If our hypothesis is greater than, then to reject, the test statistic must also be positive."
   ]
  },
  {
   "cell_type": "code",
   "execution_count": 47,
   "metadata": {},
   "outputs": [
    {
     "name": "stdout",
     "output_type": "stream",
     "text": [
      "T-statistic: 3.081997005712994\n",
      "P-value: 0.0010280845287547855\n",
      "Reject Null Hypothesis: This year the salaries are lower or equal to last years salaries\n"
     ]
    }
   ],
   "source": [
    "from statsmodels.stats.weightstats import ztest as ztest \n",
    "\n",
    "police_salary = salaries[(salaries[\"Department\"] == \"POLICE\") & (salaries[\"Salary or Hourly\"] == \"Salary\")]\n",
    "salary = police_salary[\"Annual Salary\"]\n",
    "salary\n",
    "\n",
    "# Conduct the z-test\n",
    "t_statistic, p_value = ztest(salary, value=86000, alternative=\"larger\")\n",
    "\n",
    "# Display the results\n",
    "print(f'T-statistic: {t_statistic}')\n",
    "print(f'P-value: {p_value}')\n",
    "\n",
    "if p_value < 0.05:\n",
    "   print('Reject Null Hypothesis: This year the salaries are lower or equal to last years salaries')\n",
    "else:\n",
    "   print('Accept Null Hypothesis: This year the salaries are higher than last years salaries')"
   ]
  },
  {
   "cell_type": "markdown",
   "metadata": {},
   "source": [
    "Using the `crosstab` function, find the department that has the most hourly workers. "
   ]
  },
  {
   "cell_type": "code",
   "execution_count": 48,
   "metadata": {},
   "outputs": [
    {
     "name": "stdout",
     "output_type": "stream",
     "text": [
      "The department is: STREETS & SAN\n",
      "This department has: 1862 hourly workers\n"
     ]
    }
   ],
   "source": [
    "# Cross tabulation of Salary and Hourly\n",
    "cross_tab = pd.crosstab(salaries[\"Department\"], salaries[\"Salary or Hourly\"])[\"Hourly\"]\n",
    "print(\"The department is:\",cross_tab.idxmax())\n",
    "print(\"This department has:\",cross_tab.max(),\"hourly workers\")"
   ]
  },
  {
   "cell_type": "markdown",
   "metadata": {},
   "source": [
    "The workers from the department with the most hourly workers have complained that their hourly wage is less than $35/hour. Using a one sample t-test, test this one-sided hypothesis at the 95% confidence level."
   ]
  },
  {
   "cell_type": "code",
   "execution_count": 49,
   "metadata": {},
   "outputs": [
    {
     "name": "stdout",
     "output_type": "stream",
     "text": [
      "1.6689265282353859e-21\n",
      "Reject Null Hypothesis: Hourly workers is 35€/hr\n"
     ]
    }
   ],
   "source": [
    "streets_san = salaries[(salaries[\"Department\"] == \"STREETS & SAN\") & (salaries[\"Salary or Hourly\"] == \"Hourly\")]\n",
    "hourly_wage = 35\n",
    "streets_san\n",
    "streets_san_hourly = streets_san[\"Hourly Rate\"]\n",
    "streets_san_hourly\n",
    "\n",
    "t_statistic, p_value = ttest_1samp(streets_san_hourly, hourly_wage, alternative=\"less\")\n",
    "print(p_value)\n",
    "\n",
    "if p_value < 0.05:\n",
    "    print('Reject Null Hypothesis: Hourly workers is 35€/hr')\n",
    "else:\n",
    "    print('Accept Null Hypothesis: Hourly workers is less than 35€/hr')\n"
   ]
  },
  {
   "cell_type": "markdown",
   "metadata": {},
   "source": [
    "# Challenge 3 - Constructing Confidence Intervals\n",
    "\n",
    "While testing our hypothesis is a great way to gather empirical evidence for accepting or rejecting the hypothesis, another way to gather evidence is by creating a confidence interval. A confidence interval gives us information about the true mean of the population. So for a 95% confidence interval, we are 95% sure that the mean of the population is within the confidence interval. \n",
    ").\n",
    "\n",
    "To read more about confidence intervals, click [here](https://en.wikipedia.org/wiki/Confidence_interval).\n",
    "\n",
    "\n",
    "In the cell below, we will construct a 95% confidence interval for the mean hourly wage of all hourly workers. \n",
    "\n",
    "The confidence interval is computed in SciPy using the `t.interval` function. You can read more about this function [here](https://docs.scipy.org/doc/scipy-0.14.0/reference/generated/scipy.stats.t.html).\n",
    "\n",
    "To compute the confidence interval of the hourly wage, use the 0.95 for the confidence level, number of rows - 1 for degrees of freedom, the mean of the sample for the location parameter and the standard error for the scale. The standard error can be computed using [this](https://docs.scipy.org/doc/scipy/reference/generated/scipy.stats.sem.html) function in SciPy."
   ]
  },
  {
   "cell_type": "code",
   "execution_count": 51,
   "metadata": {},
   "outputs": [
    {
     "ename": "TypeError",
     "evalue": "rv_generic.interval() missing 1 required positional argument: 'confidence'",
     "output_type": "error",
     "traceback": [
      "\u001b[1;31m---------------------------------------------------------------------------\u001b[0m",
      "\u001b[1;31mTypeError\u001b[0m                                 Traceback (most recent call last)",
      "\u001b[1;32mc:\\Users\\Sara\\Ironhack lectures\\lab-hypothesis-testing\\your-code\\main.ipynb Cell 26\u001b[0m line \u001b[0;36m1\n\u001b[0;32m      <a href='vscode-notebook-cell:/c%3A/Users/Sara/Ironhack%20lectures/lab-hypothesis-testing/your-code/main.ipynb#X34sZmlsZQ%3D%3D?line=8'>9</a>\u001b[0m confidence_level \u001b[39m=\u001b[39m \u001b[39m0.95\u001b[39m\n\u001b[0;32m     <a href='vscode-notebook-cell:/c%3A/Users/Sara/Ironhack%20lectures/lab-hypothesis-testing/your-code/main.ipynb#X34sZmlsZQ%3D%3D?line=9'>10</a>\u001b[0m degrees_of_freedom \u001b[39m=\u001b[39m \u001b[39mlen\u001b[39m(hourly_employees1) \u001b[39m-\u001b[39m \u001b[39m1\u001b[39m\n\u001b[1;32m---> <a href='vscode-notebook-cell:/c%3A/Users/Sara/Ironhack%20lectures/lab-hypothesis-testing/your-code/main.ipynb#X34sZmlsZQ%3D%3D?line=11'>12</a>\u001b[0m confidence_interval \u001b[39m=\u001b[39m st\u001b[39m.\u001b[39mt\u001b[39m.\u001b[39minterval(alpha\u001b[39m=\u001b[39mconfidence_level, df\u001b[39m=\u001b[39mdegrees_of_freedom, loc\u001b[39m=\u001b[39mmean_hourly, scale\u001b[39m=\u001b[39mst\u001b[39m.\u001b[39msem(hourly_employees1))\n\u001b[0;32m     <a href='vscode-notebook-cell:/c%3A/Users/Sara/Ironhack%20lectures/lab-hypothesis-testing/your-code/main.ipynb#X34sZmlsZQ%3D%3D?line=12'>13</a>\u001b[0m confidence_interval\n",
      "\u001b[1;31mTypeError\u001b[0m: rv_generic.interval() missing 1 required positional argument: 'confidence'"
     ]
    }
   ],
   "source": [
    "import numpy as np\n",
    "import pandas as pd\n",
    "import scipy.stats as st\n",
    "\n",
    "hourly_employees = salaries[salaries[\"Salary or Hourly\"] == \"Hourly\"]\n",
    "hourly_employees1 = hourly_employees[[\"Hourly Rate\"]]\n",
    "mean_hourly = hourly_employees1.mean()\n",
    "\n",
    "confidence_level = 0.95\n",
    "degrees_of_freedom = len(hourly_employees1) - 1\n",
    "\n",
    "confidence_interval = st.t.interval(alpha=confidence_level, df=degrees_of_freedom, loc=mean_hourly, scale=st.sem(hourly_employees1))\n",
    "confidence_interval\n"
   ]
  },
  {
   "cell_type": "markdown",
   "metadata": {},
   "source": [
    "Now construct the 95% confidence interval for all salaried employeed in the police in the cell below."
   ]
  },
  {
   "cell_type": "markdown",
   "metadata": {},
   "source": [
    "# Challenge 4 - Hypothesis Tests of Proportions\n",
    "\n",
    "Another type of one sample test is a hypothesis test of proportions. In this test, we examine whether the proportion of a group in our sample is significantly different than a fraction. \n",
    "\n",
    "You can read more about one sample proportion tests [here](http://sphweb.bumc.bu.edu/otlt/MPH-Modules/BS/SAS/SAS6-CategoricalData/SAS6-CategoricalData2.html).\n",
    "\n",
    "In the cell below, use the `proportions_ztest` function from `statsmodels` to perform a hypothesis test that will determine whether the number of hourly workers in the City of Chicago is significantly different from 25% at the 95% confidence level."
   ]
  },
  {
   "cell_type": "code",
   "execution_count": null,
   "metadata": {},
   "outputs": [
    {
     "name": "stdout",
     "output_type": "stream",
     "text": [
      "Reject the null hypothesis. The number of hourly workers is significantly different from 25%.\n"
     ]
    }
   ],
   "source": [
    "from statsmodels.stats.proportion import proportions_ztest\n",
    "import statsmodels.api as sm\n",
    "\n",
    "hourly_employees = salaries[salaries[\"Salary or Hourly\"] == \"Hourly\"]\n",
    "number_hourly_employees = hourly_employees[\"Name\"].count(); \n",
    "total_employees = salaries[\"Name\"].count(); \n",
    "null_hypothesis = 0.25\n",
    "\n",
    "z_stat, p_value = sm.stats.proportions_ztest(number_hourly_employees, total_employees, null_hypothesis)\n",
    "\n",
    "alpha = 0.05  # 95% confidence level\n",
    "if p_value < alpha:\n",
    "    print(f\"Reject the null hypothesis. The number of hourly workers is significantly different from 25%.\")\n",
    "else:\n",
    "    print(f\"Fail to reject the null hypothesis. The number of hourly workers is not significantly different from 25%.\")"
   ]
  }
 ],
 "metadata": {
  "kernelspec": {
   "display_name": "Python 3",
   "language": "python",
   "name": "python3"
  },
  "language_info": {
   "codemirror_mode": {
    "name": "ipython",
    "version": 3
   },
   "file_extension": ".py",
   "mimetype": "text/x-python",
   "name": "python",
   "nbconvert_exporter": "python",
   "pygments_lexer": "ipython3",
   "version": "3.11.5"
  }
 },
 "nbformat": 4,
 "nbformat_minor": 2
}
